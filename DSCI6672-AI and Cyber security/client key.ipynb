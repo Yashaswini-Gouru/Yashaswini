{
 "cells": [
  {
   "cell_type": "code",
   "execution_count": 0,
   "metadata": {
    "colab": {},
    "colab_type": "code",
    "id": "xOh1L0E_SW-a"
   },
   "outputs": [],
   "source": [
    "\n",
    "import boto3\n",
    "import numpy as np\n",
    "import pickle\n",
    "import argparse\n",
    "import ast\n",
    "try:\n",
    "\timport ember\n",
    "except:\n",
    "\tos.system('wget https://github.com/endgameinc/ember/archive/master.zip')\n",
    "\tos.system('unzip master.zip')\n",
    "\tos.system('rm master.zip')\n",
    "\tos.system('cp -r ember-master/* .')\n",
    "\tos.system('rm -r ember-master')\n",
    "\tos.system('pip install -r requirements.txt')\n",
    "\tos.system('python setup.py install')\n",
    "\timport ember\n",
    "import json\n",
    "from sklearn.preprocessing import StandardScaler\n",
    "ss = StandardScaler()\n",
    "def main():\n",
    "\tprog = \"predict_sample\"\n",
    "\tdescr = \"Using the model to predict a single PE's binary.\"\n",
    "\tparser = argparse.ArgumentParser(prog=prog, description=descr)\n",
    "\tparser.add_argument(\"-v\", \"--featureversion\", type=int, default=2, help=\"EMBER feature version\")\n",
    "\tparser.add_argument(\"binaries\", metavar=\"BINARIES\", type=str, nargs=\"+\", help=\"PE files to classify\")\n",
    "\targs = parser.parse_args()\n",
    "\n",
    "\textractor = ember.PEFeatureExtractor(args.featureversion)\n",
    "\tdata = open(args.binaries[0],'rb').read()\n",
    "\tdata = extractor.feature_vector(data)\n",
    "\tdata = np.array(data, dtype=np.float32)\n",
    "\tdata = ss.transform([sample_data])\n",
    "\tdata = np.reshape(data,(-1,1,2381))\n",
    "\tdata = data.tolist()\n",
    "\n",
    "\n",
    "\tclient = boto3.client('runtime.sagemaker', \n",
    "    region_name='us-east-1', # make sure to set correct region\n",
    "    aws_access_key_id=key id, # These you get from AWS, for your account\n",
    "    aws_secret_access_key=secret accesss key)\n",
    " \n",
    "\tresponse = client.invoke_endpoint(EndpointName='sagemaker-tensorflow-2020-04-28-00-12-37-103' , Body=json.dumps(data))\n",
    "\tresponse_body = response['Body']\n",
    "\tbbtyes = response_body.read()\n",
    "\tastr = bbtyes.decode(\"UTF-8\")\n",
    "\td = ast.literal_eval(astr)\n",
    "\td = d['outputs']['score']['floatVal']\n",
    "\n",
    "\tif d[0] >=.5:\n",
    "\t\tprint(\"Malicious\")\n",
    "\telse:\n",
    "\t\tprint(\"Benign\")\n",
    "  "
   ]
  },
  {
   "cell_type": "code",
   "execution_count": 0,
   "metadata": {
    "colab": {},
    "colab_type": "code",
    "id": "R4w_CXKORtTE"
   },
   "outputs": [],
   "source": []
  }
 ],
 "metadata": {
  "colab": {
   "collapsed_sections": [],
   "name": "Endpoint.ipynb",
   "provenance": []
  },
  "kernelspec": {
   "display_name": "Python 3",
   "language": "python",
   "name": "python3"
  },
  "language_info": {
   "codemirror_mode": {
    "name": "ipython",
    "version": 3
   },
   "file_extension": ".py",
   "mimetype": "text/x-python",
   "name": "python",
   "nbconvert_exporter": "python",
   "pygments_lexer": "ipython3",
   "version": "3.7.6"
  }
 },
 "nbformat": 4,
 "nbformat_minor": 1
}
